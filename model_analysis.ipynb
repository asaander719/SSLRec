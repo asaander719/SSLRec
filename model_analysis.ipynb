{
 "cells": [
  {
   "cell_type": "code",
   "execution_count": 3,
   "metadata": {},
   "outputs": [
    {
     "data": {
      "text/plain": [
       "<2174x30113 sparse matrix of type '<class 'numpy.int64'>'\n",
       "\twith 9551 stored elements in Compressed Sparse Row format>"
      ]
     },
     "execution_count": 3,
     "metadata": {},
     "output_type": "execute_result"
    }
   ],
   "source": [
    "import pickle\n",
    "train_mat_neg = pickle.load(open('/home/asaliao/SSLRec/datasets/multi_behavior/retail_rocket/train_mat_buy.pkl', 'rb'))\n",
    "train_mat_neg"
   ]
  }
 ],
 "metadata": {
  "kernelspec": {
   "display_name": "GPBPR",
   "language": "python",
   "name": "gpbpr"
  },
  "language_info": {
   "codemirror_mode": {
    "name": "ipython",
    "version": 3
   },
   "file_extension": ".py",
   "mimetype": "text/x-python",
   "name": "python",
   "nbconvert_exporter": "python",
   "pygments_lexer": "ipython3",
   "version": "3.12.0"
  },
  "orig_nbformat": 4
 },
 "nbformat": 4,
 "nbformat_minor": 2
}
